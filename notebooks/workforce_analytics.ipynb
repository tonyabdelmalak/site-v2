{
 "cells": [
  {
   "cell_type": "markdown",
   "id": "e9a90f48",
   "metadata": {},
   "source": [
    "\n",
    "# Workforce Analytics Dashboard\n",
    "\n",
    "This notebook presents workforce analytics focusing on Employee Engagement, Retention, Recruitment Efficiency, and Department-Level Insights. The goal is to support strategic decision-making for people operations and leadership.\n",
    "\n",
    "---\n"
   ]
  },
  {
   "cell_type": "markdown",
   "id": "0dda4503",
   "metadata": {},
   "source": [
    "\n",
    "## 1. Employee Engagement & Performance Correlation\n",
    "\n",
    "This section analyzes the correlation between employee engagement scores and performance ratings, as well as before-and-after engagement survey results by department.\n"
   ]
  },
  {
   "cell_type": "code",
   "execution_count": null,
   "id": "94a91198",
   "metadata": {},
   "outputs": [],
   "source": [
    "\n",
    "import pandas as pd\n",
    "import matplotlib.pyplot as plt\n",
    "import seaborn as sns\n",
    "\n",
    "# Load datasets\n",
    "employee_data = pd.read_csv('data/employee_data.csv')\n",
    "engagement_survey = pd.read_csv('data/engagement_survey.csv')\n",
    "\n",
    "# Correlation between Engagement Scores and Performance Ratings\n",
    "correlation = employee_data[['Engagement_Score', 'Performance_Rating']].corr()\n",
    "\n",
    "# Scatter Plot\n",
    "plt.figure(figsize=(8, 6))\n",
    "plt.scatter(employee_data['Engagement_Score'], employee_data['Performance_Rating'])\n",
    "plt.title('Engagement Score vs Performance Rating')\n",
    "plt.xlabel('Engagement Score')\n",
    "plt.ylabel('Performance Rating')\n",
    "plt.grid(True)\n",
    "plt.show()\n",
    "\n",
    "# Before-After Engagement Score Analysis\n",
    "engagement_by_dept = engagement_survey.groupby('Department')[['Engagement_Score_Before', 'Engagement_Score_After']].mean().reset_index()\n",
    "engagement_by_dept.plot(x='Department', kind='bar', figsize=(12, 6))\n",
    "plt.title('Average Engagement Scores Before and After by Department')\n",
    "plt.xlabel('Department')\n",
    "plt.ylabel('Engagement Score')\n",
    "plt.xticks(rotation=45)\n",
    "plt.grid(axis='y')\n",
    "plt.show()\n",
    "\n",
    "# Heatmap for Correlation Matrix\n",
    "merged_data = employee_data[['Engagement_Score', 'Performance_Rating']].copy()\n",
    "merged_data['Status_Encoded'] = employee_data['Status'].apply(lambda x: 1 if x == 'Active' else 0)\n",
    "correlation_matrix = merged_data.corr()\n",
    "\n",
    "plt.figure(figsize=(8, 6))\n",
    "sns.heatmap(correlation_matrix, annot=True, cmap='coolwarm', fmt=\".2f\")\n",
    "plt.title('Correlation Heatmap: Engagement, Performance, and Retention')\n",
    "plt.show()\n"
   ]
  },
  {
   "cell_type": "markdown",
   "id": "16c49dda",
   "metadata": {},
   "source": [
    "\n",
    "## 2. Retention & Attrition Analysis\n",
    "\n",
    "This section identifies attrition trends, tenure distribution, and department-wise attrition rates.\n"
   ]
  },
  {
   "cell_type": "code",
   "execution_count": null,
   "id": "04806503",
   "metadata": {},
   "outputs": [],
   "source": [
    "\n",
    "# Load retention data\n",
    "retention_attrition = pd.read_csv('data/retention_attrition.csv')\n",
    "retention_attrition['Hire_Date'] = pd.to_datetime(retention_attrition['Hire_Date'])\n",
    "retention_attrition['Termination_Date'] = pd.to_datetime(retention_attrition['Termination_Date'])\n",
    "\n",
    "# Attrition Rate by Department\n",
    "attrition_by_dept = retention_attrition.groupby('Department')['Status'].value_counts().unstack().fillna(0)\n",
    "attrition_by_dept['Total_Terminated'] = attrition_by_dept.get('Involuntary Termination', 0) + attrition_by_dept.get('Voluntary Resignation', 0)\n",
    "attrition_by_dept['Attrition_Rate'] = (attrition_by_dept['Total_Terminated'] / \n",
    "                                       (attrition_by_dept['Active'] + attrition_by_dept['Total_Terminated'])) * 100\n",
    "\n",
    "# Visualization: Attrition Rate\n",
    "attrition_by_dept['Attrition_Rate'].sort_values(ascending=False).plot(kind='bar', figsize=(12, 6))\n",
    "plt.title('Attrition Rate by Department')\n",
    "plt.xlabel('Department')\n",
    "plt.ylabel('Attrition Rate (%)')\n",
    "plt.grid(axis='y')\n",
    "plt.show()\n"
   ]
  },
  {
   "cell_type": "markdown",
   "id": "295d83f3",
   "metadata": {},
   "source": [
    "\n",
    "## 3. Recruitment Efficiency Analysis\n",
    "\n",
    "This section evaluates the effectiveness of recruitment processes by analyzing time-to-fill trends before and after process changes.\n"
   ]
  },
  {
   "cell_type": "code",
   "execution_count": null,
   "id": "236553a6",
   "metadata": {},
   "outputs": [],
   "source": [
    "\n",
    "# Load recruitment data\n",
    "recruitment_metrics = pd.read_csv('data/recruitment_metrics.csv')\n",
    "\n",
    "# Time-to-Fill Trends\n",
    "time_to_fill_trends = recruitment_metrics.groupby('Department')[['Time_to_Fill_Before', 'Time_to_Fill_After']].mean().reset_index()\n",
    "\n",
    "plt.figure(figsize=(12, 6))\n",
    "plt.plot(time_to_fill_trends['Department'], time_to_fill_trends['Time_to_Fill_Before'], marker='o', label='Before')\n",
    "plt.plot(time_to_fill_trends['Department'], time_to_fill_trends['Time_to_Fill_After'], marker='o', label='After')\n",
    "plt.title('Average Time-to-Fill Before and After by Department')\n",
    "plt.xlabel('Department')\n",
    "plt.ylabel('Average Time-to-Fill (Days)')\n",
    "plt.xticks(rotation=45)\n",
    "plt.legend()\n",
    "plt.grid(True)\n",
    "plt.show()\n"
   ]
  },
  {
   "cell_type": "markdown",
   "id": "8bd7e7df",
   "metadata": {},
   "source": [
    "\n",
    "## 4. Recommendations\n",
    "\n",
    "Based on the analysis:\n",
    "- Focus on improving retention strategies in Engineering.\n",
    "- Leverage HR's best practices for employee engagement.\n",
    "- Optimize recruitment processes further in Customer Support and Engineering.\n",
    "- Align engagement programs to improve performance outcomes.\n",
    "\n",
    "---\n"
   ]
  }
 ],
 "metadata": {},
 "nbformat": 4,
 "nbformat_minor": 5
}
